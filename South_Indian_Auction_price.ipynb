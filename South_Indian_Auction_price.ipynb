{
  "nbformat": 4,
  "nbformat_minor": 0,
  "metadata": {
    "colab": {
      "name": "South_Indian_Auction_price.ipynb",
      "provenance": [],
      "include_colab_link": true
    },
    "kernelspec": {
      "name": "python3",
      "display_name": "Python 3"
    },
    "language_info": {
      "name": "python"
    }
  },
  "cells": [
    {
      "cell_type": "markdown",
      "metadata": {
        "id": "view-in-github",
        "colab_type": "text"
      },
      "source": [
        "<a href=\"https://colab.research.google.com/github/sivamamidi/Amazon-Reviews-Nlp-/blob/main/South_Indian_Auction_price.ipynb\" target=\"_parent\"><img src=\"https://colab.research.google.com/assets/colab-badge.svg\" alt=\"Open In Colab\"/></a>"
      ]
    },
    {
      "cell_type": "code",
      "metadata": {
        "id": "lPC8guQtIuCM"
      },
      "source": [
        "# Import necessary libraires \n",
        "import pandas as pd \n",
        "import numpy as np \n",
        "import matplotlib.pyplot as plt\n",
        "import seaborn as sns"
      ],
      "execution_count": null,
      "outputs": []
    },
    {
      "cell_type": "code",
      "metadata": {
        "id": "RLPplvJCJFOs"
      },
      "source": [
        "df = pd.read_excel('/content/South Indian Auction Centers price.xlsx')"
      ],
      "execution_count": null,
      "outputs": []
    },
    {
      "cell_type": "code",
      "metadata": {
        "colab": {
          "base_uri": "https://localhost:8080/",
          "height": 457
        },
        "id": "pAzfhKFvJLBE",
        "outputId": "878ef75f-19bc-4441-91f4-38ddd9fb02a7"
      },
      "source": [
        "df"
      ],
      "execution_count": null,
      "outputs": [
        {
          "output_type": "execute_result",
          "data": {
            "text/html": [
              "<div>\n",
              "<style scoped>\n",
              "    .dataframe tbody tr th:only-of-type {\n",
              "        vertical-align: middle;\n",
              "    }\n",
              "\n",
              "    .dataframe tbody tr th {\n",
              "        vertical-align: top;\n",
              "    }\n",
              "\n",
              "    .dataframe thead th {\n",
              "        text-align: right;\n",
              "    }\n",
              "</style>\n",
              "<table border=\"1\" class=\"dataframe\">\n",
              "  <thead>\n",
              "    <tr style=\"text-align: right;\">\n",
              "      <th></th>\n",
              "      <th>Month</th>\n",
              "      <th>Cochin</th>\n",
              "      <th>Coonoor</th>\n",
              "      <th>Coimbatore</th>\n",
              "      <th>Tea Serve</th>\n",
              "      <th>South India</th>\n",
              "    </tr>\n",
              "  </thead>\n",
              "  <tbody>\n",
              "    <tr>\n",
              "      <th>0</th>\n",
              "      <td>2021-04-20 00:00:00</td>\n",
              "      <td>124.72</td>\n",
              "      <td>92.09</td>\n",
              "      <td>105.90</td>\n",
              "      <td>78.20</td>\n",
              "      <td>111.64</td>\n",
              "    </tr>\n",
              "    <tr>\n",
              "      <th>1</th>\n",
              "      <td>2021-05-20 00:00:00</td>\n",
              "      <td>115.67</td>\n",
              "      <td>95.20</td>\n",
              "      <td>104.41</td>\n",
              "      <td>75.31</td>\n",
              "      <td>100.77</td>\n",
              "    </tr>\n",
              "    <tr>\n",
              "      <th>2</th>\n",
              "      <td>2021-06-20 00:00:00</td>\n",
              "      <td>114.30</td>\n",
              "      <td>107.72</td>\n",
              "      <td>107.25</td>\n",
              "      <td>83.78</td>\n",
              "      <td>108.04</td>\n",
              "    </tr>\n",
              "    <tr>\n",
              "      <th>3</th>\n",
              "      <td>2021-07-20 00:00:00</td>\n",
              "      <td>135.15</td>\n",
              "      <td>133.61</td>\n",
              "      <td>132.12</td>\n",
              "      <td>112.66</td>\n",
              "      <td>131.78</td>\n",
              "    </tr>\n",
              "    <tr>\n",
              "      <th>4</th>\n",
              "      <td>2021-08-20 00:00:00</td>\n",
              "      <td>162.69</td>\n",
              "      <td>169.88</td>\n",
              "      <td>161.38</td>\n",
              "      <td>148.99</td>\n",
              "      <td>165.18</td>\n",
              "    </tr>\n",
              "    <tr>\n",
              "      <th>5</th>\n",
              "      <td>2021-09-20 00:00:00</td>\n",
              "      <td>190.05</td>\n",
              "      <td>186.04</td>\n",
              "      <td>185.54</td>\n",
              "      <td>167.59</td>\n",
              "      <td>185.87</td>\n",
              "    </tr>\n",
              "    <tr>\n",
              "      <th>6</th>\n",
              "      <td>2021-10-20 00:00:00</td>\n",
              "      <td>178.89</td>\n",
              "      <td>149.64</td>\n",
              "      <td>155.38</td>\n",
              "      <td>129.13</td>\n",
              "      <td>153.89</td>\n",
              "    </tr>\n",
              "    <tr>\n",
              "      <th>7</th>\n",
              "      <td>2021-11-20 00:00:00</td>\n",
              "      <td>192.96</td>\n",
              "      <td>142.29</td>\n",
              "      <td>157.35</td>\n",
              "      <td>135.49</td>\n",
              "      <td>166.31</td>\n",
              "    </tr>\n",
              "    <tr>\n",
              "      <th>8</th>\n",
              "      <td>2021-12-20 00:00:00</td>\n",
              "      <td>174.14</td>\n",
              "      <td>110.79</td>\n",
              "      <td>132.58</td>\n",
              "      <td>106.11</td>\n",
              "      <td>131.27</td>\n",
              "    </tr>\n",
              "    <tr>\n",
              "      <th>9</th>\n",
              "      <td>2021-01-21 00:00:00</td>\n",
              "      <td>169.80</td>\n",
              "      <td>134.60</td>\n",
              "      <td>138.96</td>\n",
              "      <td>122.97</td>\n",
              "      <td>148.40</td>\n",
              "    </tr>\n",
              "    <tr>\n",
              "      <th>10</th>\n",
              "      <td>2021-02-21 00:00:00</td>\n",
              "      <td>167.07</td>\n",
              "      <td>131.27</td>\n",
              "      <td>140.06</td>\n",
              "      <td>116.30</td>\n",
              "      <td>146.20</td>\n",
              "    </tr>\n",
              "    <tr>\n",
              "      <th>11</th>\n",
              "      <td>2021-03-21 00:00:00</td>\n",
              "      <td>164.77</td>\n",
              "      <td>122.93</td>\n",
              "      <td>131.08</td>\n",
              "      <td>113.59</td>\n",
              "      <td>141.20</td>\n",
              "    </tr>\n",
              "    <tr>\n",
              "      <th>12</th>\n",
              "      <td>Apr-Mar, 2020-21</td>\n",
              "      <td>155.22</td>\n",
              "      <td>134.93</td>\n",
              "      <td>139.57</td>\n",
              "      <td>113.55</td>\n",
              "      <td>140.40</td>\n",
              "    </tr>\n",
              "  </tbody>\n",
              "</table>\n",
              "</div>"
            ],
            "text/plain": [
              "                  Month  Cochin  Coonoor  Coimbatore  Tea Serve  South India\n",
              "0   2021-04-20 00:00:00  124.72    92.09      105.90      78.20       111.64\n",
              "1   2021-05-20 00:00:00  115.67    95.20      104.41      75.31       100.77\n",
              "2   2021-06-20 00:00:00  114.30   107.72      107.25      83.78       108.04\n",
              "3   2021-07-20 00:00:00  135.15   133.61      132.12     112.66       131.78\n",
              "4   2021-08-20 00:00:00  162.69   169.88      161.38     148.99       165.18\n",
              "5   2021-09-20 00:00:00  190.05   186.04      185.54     167.59       185.87\n",
              "6   2021-10-20 00:00:00  178.89   149.64      155.38     129.13       153.89\n",
              "7   2021-11-20 00:00:00  192.96   142.29      157.35     135.49       166.31\n",
              "8   2021-12-20 00:00:00  174.14   110.79      132.58     106.11       131.27\n",
              "9   2021-01-21 00:00:00  169.80   134.60      138.96     122.97       148.40\n",
              "10  2021-02-21 00:00:00  167.07   131.27      140.06     116.30       146.20\n",
              "11  2021-03-21 00:00:00  164.77   122.93      131.08     113.59       141.20\n",
              "12     Apr-Mar, 2020-21  155.22   134.93      139.57     113.55       140.40"
            ]
          },
          "metadata": {},
          "execution_count": 3
        }
      ]
    },
    {
      "cell_type": "code",
      "metadata": {
        "id": "gcECGEtwLTLs"
      },
      "source": [
        "# Set index the month "
      ],
      "execution_count": null,
      "outputs": []
    },
    {
      "cell_type": "code",
      "metadata": {
        "id": "AcdZdnVfJMNF"
      },
      "source": [
        "df.set_index(df['Month'],inplace = True)"
      ],
      "execution_count": null,
      "outputs": []
    },
    {
      "cell_type": "code",
      "metadata": {
        "colab": {
          "base_uri": "https://localhost:8080/",
          "height": 488
        },
        "id": "S4602wH8LcE_",
        "outputId": "30449646-5317-4273-9e5a-32fb5add5737"
      },
      "source": [
        "df"
      ],
      "execution_count": null,
      "outputs": [
        {
          "output_type": "execute_result",
          "data": {
            "text/html": [
              "<div>\n",
              "<style scoped>\n",
              "    .dataframe tbody tr th:only-of-type {\n",
              "        vertical-align: middle;\n",
              "    }\n",
              "\n",
              "    .dataframe tbody tr th {\n",
              "        vertical-align: top;\n",
              "    }\n",
              "\n",
              "    .dataframe thead th {\n",
              "        text-align: right;\n",
              "    }\n",
              "</style>\n",
              "<table border=\"1\" class=\"dataframe\">\n",
              "  <thead>\n",
              "    <tr style=\"text-align: right;\">\n",
              "      <th></th>\n",
              "      <th>Month</th>\n",
              "      <th>Cochin</th>\n",
              "      <th>Coonoor</th>\n",
              "      <th>Coimbatore</th>\n",
              "      <th>Tea Serve</th>\n",
              "      <th>South India</th>\n",
              "    </tr>\n",
              "    <tr>\n",
              "      <th>Month</th>\n",
              "      <th></th>\n",
              "      <th></th>\n",
              "      <th></th>\n",
              "      <th></th>\n",
              "      <th></th>\n",
              "      <th></th>\n",
              "    </tr>\n",
              "  </thead>\n",
              "  <tbody>\n",
              "    <tr>\n",
              "      <th>2021-04-20 00:00:00</th>\n",
              "      <td>2021-04-20 00:00:00</td>\n",
              "      <td>124.72</td>\n",
              "      <td>92.09</td>\n",
              "      <td>105.90</td>\n",
              "      <td>78.20</td>\n",
              "      <td>111.64</td>\n",
              "    </tr>\n",
              "    <tr>\n",
              "      <th>2021-05-20 00:00:00</th>\n",
              "      <td>2021-05-20 00:00:00</td>\n",
              "      <td>115.67</td>\n",
              "      <td>95.20</td>\n",
              "      <td>104.41</td>\n",
              "      <td>75.31</td>\n",
              "      <td>100.77</td>\n",
              "    </tr>\n",
              "    <tr>\n",
              "      <th>2021-06-20 00:00:00</th>\n",
              "      <td>2021-06-20 00:00:00</td>\n",
              "      <td>114.30</td>\n",
              "      <td>107.72</td>\n",
              "      <td>107.25</td>\n",
              "      <td>83.78</td>\n",
              "      <td>108.04</td>\n",
              "    </tr>\n",
              "    <tr>\n",
              "      <th>2021-07-20 00:00:00</th>\n",
              "      <td>2021-07-20 00:00:00</td>\n",
              "      <td>135.15</td>\n",
              "      <td>133.61</td>\n",
              "      <td>132.12</td>\n",
              "      <td>112.66</td>\n",
              "      <td>131.78</td>\n",
              "    </tr>\n",
              "    <tr>\n",
              "      <th>2021-08-20 00:00:00</th>\n",
              "      <td>2021-08-20 00:00:00</td>\n",
              "      <td>162.69</td>\n",
              "      <td>169.88</td>\n",
              "      <td>161.38</td>\n",
              "      <td>148.99</td>\n",
              "      <td>165.18</td>\n",
              "    </tr>\n",
              "    <tr>\n",
              "      <th>2021-09-20 00:00:00</th>\n",
              "      <td>2021-09-20 00:00:00</td>\n",
              "      <td>190.05</td>\n",
              "      <td>186.04</td>\n",
              "      <td>185.54</td>\n",
              "      <td>167.59</td>\n",
              "      <td>185.87</td>\n",
              "    </tr>\n",
              "    <tr>\n",
              "      <th>2021-10-20 00:00:00</th>\n",
              "      <td>2021-10-20 00:00:00</td>\n",
              "      <td>178.89</td>\n",
              "      <td>149.64</td>\n",
              "      <td>155.38</td>\n",
              "      <td>129.13</td>\n",
              "      <td>153.89</td>\n",
              "    </tr>\n",
              "    <tr>\n",
              "      <th>2021-11-20 00:00:00</th>\n",
              "      <td>2021-11-20 00:00:00</td>\n",
              "      <td>192.96</td>\n",
              "      <td>142.29</td>\n",
              "      <td>157.35</td>\n",
              "      <td>135.49</td>\n",
              "      <td>166.31</td>\n",
              "    </tr>\n",
              "    <tr>\n",
              "      <th>2021-12-20 00:00:00</th>\n",
              "      <td>2021-12-20 00:00:00</td>\n",
              "      <td>174.14</td>\n",
              "      <td>110.79</td>\n",
              "      <td>132.58</td>\n",
              "      <td>106.11</td>\n",
              "      <td>131.27</td>\n",
              "    </tr>\n",
              "    <tr>\n",
              "      <th>2021-01-21 00:00:00</th>\n",
              "      <td>2021-01-21 00:00:00</td>\n",
              "      <td>169.80</td>\n",
              "      <td>134.60</td>\n",
              "      <td>138.96</td>\n",
              "      <td>122.97</td>\n",
              "      <td>148.40</td>\n",
              "    </tr>\n",
              "    <tr>\n",
              "      <th>2021-02-21 00:00:00</th>\n",
              "      <td>2021-02-21 00:00:00</td>\n",
              "      <td>167.07</td>\n",
              "      <td>131.27</td>\n",
              "      <td>140.06</td>\n",
              "      <td>116.30</td>\n",
              "      <td>146.20</td>\n",
              "    </tr>\n",
              "    <tr>\n",
              "      <th>2021-03-21 00:00:00</th>\n",
              "      <td>2021-03-21 00:00:00</td>\n",
              "      <td>164.77</td>\n",
              "      <td>122.93</td>\n",
              "      <td>131.08</td>\n",
              "      <td>113.59</td>\n",
              "      <td>141.20</td>\n",
              "    </tr>\n",
              "    <tr>\n",
              "      <th>Apr-Mar, 2020-21</th>\n",
              "      <td>Apr-Mar, 2020-21</td>\n",
              "      <td>155.22</td>\n",
              "      <td>134.93</td>\n",
              "      <td>139.57</td>\n",
              "      <td>113.55</td>\n",
              "      <td>140.40</td>\n",
              "    </tr>\n",
              "  </tbody>\n",
              "</table>\n",
              "</div>"
            ],
            "text/plain": [
              "                                   Month  Cochin  ...  Tea Serve  South India\n",
              "Month                                             ...                        \n",
              "2021-04-20 00:00:00  2021-04-20 00:00:00  124.72  ...      78.20       111.64\n",
              "2021-05-20 00:00:00  2021-05-20 00:00:00  115.67  ...      75.31       100.77\n",
              "2021-06-20 00:00:00  2021-06-20 00:00:00  114.30  ...      83.78       108.04\n",
              "2021-07-20 00:00:00  2021-07-20 00:00:00  135.15  ...     112.66       131.78\n",
              "2021-08-20 00:00:00  2021-08-20 00:00:00  162.69  ...     148.99       165.18\n",
              "2021-09-20 00:00:00  2021-09-20 00:00:00  190.05  ...     167.59       185.87\n",
              "2021-10-20 00:00:00  2021-10-20 00:00:00  178.89  ...     129.13       153.89\n",
              "2021-11-20 00:00:00  2021-11-20 00:00:00  192.96  ...     135.49       166.31\n",
              "2021-12-20 00:00:00  2021-12-20 00:00:00  174.14  ...     106.11       131.27\n",
              "2021-01-21 00:00:00  2021-01-21 00:00:00  169.80  ...     122.97       148.40\n",
              "2021-02-21 00:00:00  2021-02-21 00:00:00  167.07  ...     116.30       146.20\n",
              "2021-03-21 00:00:00  2021-03-21 00:00:00  164.77  ...     113.59       141.20\n",
              "Apr-Mar, 2020-21        Apr-Mar, 2020-21  155.22  ...     113.55       140.40\n",
              "\n",
              "[13 rows x 6 columns]"
            ]
          },
          "metadata": {},
          "execution_count": 6
        }
      ]
    },
    {
      "cell_type": "code",
      "metadata": {
        "colab": {
          "base_uri": "https://localhost:8080/"
        },
        "id": "Eur5YZCALcvb",
        "outputId": "4868795a-fa85-44d0-82b5-ca801c5a54da"
      },
      "source": [
        "df.dtypes"
      ],
      "execution_count": null,
      "outputs": [
        {
          "output_type": "execute_result",
          "data": {
            "text/plain": [
              "Month           object\n",
              "Cochin         float64\n",
              "Coonoor        float64\n",
              "Coimbatore     float64\n",
              "Tea Serve      float64\n",
              "South India    float64\n",
              "dtype: object"
            ]
          },
          "metadata": {},
          "execution_count": 7
        }
      ]
    },
    {
      "cell_type": "code",
      "metadata": {
        "id": "qmP2Yjd7Qx0a"
      },
      "source": [
        "df.set_index(df['Month'],inplace = True)"
      ],
      "execution_count": null,
      "outputs": []
    },
    {
      "cell_type": "code",
      "metadata": {
        "id": "lfVYB79XSZ6y"
      },
      "source": [
        "df.drop('Month',inplace=True,axis=1)"
      ],
      "execution_count": null,
      "outputs": []
    },
    {
      "cell_type": "code",
      "metadata": {
        "colab": {
          "base_uri": "https://localhost:8080/",
          "height": 488
        },
        "id": "UrPYSv6gSiQb",
        "outputId": "21a06f97-fd0b-4f68-a9ce-06b747238b13"
      },
      "source": [
        "df"
      ],
      "execution_count": null,
      "outputs": [
        {
          "output_type": "execute_result",
          "data": {
            "text/html": [
              "<div>\n",
              "<style scoped>\n",
              "    .dataframe tbody tr th:only-of-type {\n",
              "        vertical-align: middle;\n",
              "    }\n",
              "\n",
              "    .dataframe tbody tr th {\n",
              "        vertical-align: top;\n",
              "    }\n",
              "\n",
              "    .dataframe thead th {\n",
              "        text-align: right;\n",
              "    }\n",
              "</style>\n",
              "<table border=\"1\" class=\"dataframe\">\n",
              "  <thead>\n",
              "    <tr style=\"text-align: right;\">\n",
              "      <th></th>\n",
              "      <th>Cochin</th>\n",
              "      <th>Coonoor</th>\n",
              "      <th>Coimbatore</th>\n",
              "      <th>Tea Serve</th>\n",
              "      <th>South India</th>\n",
              "    </tr>\n",
              "    <tr>\n",
              "      <th>Month</th>\n",
              "      <th></th>\n",
              "      <th></th>\n",
              "      <th></th>\n",
              "      <th></th>\n",
              "      <th></th>\n",
              "    </tr>\n",
              "  </thead>\n",
              "  <tbody>\n",
              "    <tr>\n",
              "      <th>2021-04-20 00:00:00</th>\n",
              "      <td>124.72</td>\n",
              "      <td>92.09</td>\n",
              "      <td>105.90</td>\n",
              "      <td>78.20</td>\n",
              "      <td>111.64</td>\n",
              "    </tr>\n",
              "    <tr>\n",
              "      <th>2021-05-20 00:00:00</th>\n",
              "      <td>115.67</td>\n",
              "      <td>95.20</td>\n",
              "      <td>104.41</td>\n",
              "      <td>75.31</td>\n",
              "      <td>100.77</td>\n",
              "    </tr>\n",
              "    <tr>\n",
              "      <th>2021-06-20 00:00:00</th>\n",
              "      <td>114.30</td>\n",
              "      <td>107.72</td>\n",
              "      <td>107.25</td>\n",
              "      <td>83.78</td>\n",
              "      <td>108.04</td>\n",
              "    </tr>\n",
              "    <tr>\n",
              "      <th>2021-07-20 00:00:00</th>\n",
              "      <td>135.15</td>\n",
              "      <td>133.61</td>\n",
              "      <td>132.12</td>\n",
              "      <td>112.66</td>\n",
              "      <td>131.78</td>\n",
              "    </tr>\n",
              "    <tr>\n",
              "      <th>2021-08-20 00:00:00</th>\n",
              "      <td>162.69</td>\n",
              "      <td>169.88</td>\n",
              "      <td>161.38</td>\n",
              "      <td>148.99</td>\n",
              "      <td>165.18</td>\n",
              "    </tr>\n",
              "    <tr>\n",
              "      <th>2021-09-20 00:00:00</th>\n",
              "      <td>190.05</td>\n",
              "      <td>186.04</td>\n",
              "      <td>185.54</td>\n",
              "      <td>167.59</td>\n",
              "      <td>185.87</td>\n",
              "    </tr>\n",
              "    <tr>\n",
              "      <th>2021-10-20 00:00:00</th>\n",
              "      <td>178.89</td>\n",
              "      <td>149.64</td>\n",
              "      <td>155.38</td>\n",
              "      <td>129.13</td>\n",
              "      <td>153.89</td>\n",
              "    </tr>\n",
              "    <tr>\n",
              "      <th>2021-11-20 00:00:00</th>\n",
              "      <td>192.96</td>\n",
              "      <td>142.29</td>\n",
              "      <td>157.35</td>\n",
              "      <td>135.49</td>\n",
              "      <td>166.31</td>\n",
              "    </tr>\n",
              "    <tr>\n",
              "      <th>2021-12-20 00:00:00</th>\n",
              "      <td>174.14</td>\n",
              "      <td>110.79</td>\n",
              "      <td>132.58</td>\n",
              "      <td>106.11</td>\n",
              "      <td>131.27</td>\n",
              "    </tr>\n",
              "    <tr>\n",
              "      <th>2021-01-21 00:00:00</th>\n",
              "      <td>169.80</td>\n",
              "      <td>134.60</td>\n",
              "      <td>138.96</td>\n",
              "      <td>122.97</td>\n",
              "      <td>148.40</td>\n",
              "    </tr>\n",
              "    <tr>\n",
              "      <th>2021-02-21 00:00:00</th>\n",
              "      <td>167.07</td>\n",
              "      <td>131.27</td>\n",
              "      <td>140.06</td>\n",
              "      <td>116.30</td>\n",
              "      <td>146.20</td>\n",
              "    </tr>\n",
              "    <tr>\n",
              "      <th>2021-03-21 00:00:00</th>\n",
              "      <td>164.77</td>\n",
              "      <td>122.93</td>\n",
              "      <td>131.08</td>\n",
              "      <td>113.59</td>\n",
              "      <td>141.20</td>\n",
              "    </tr>\n",
              "    <tr>\n",
              "      <th>Apr-Mar, 2020-21</th>\n",
              "      <td>155.22</td>\n",
              "      <td>134.93</td>\n",
              "      <td>139.57</td>\n",
              "      <td>113.55</td>\n",
              "      <td>140.40</td>\n",
              "    </tr>\n",
              "  </tbody>\n",
              "</table>\n",
              "</div>"
            ],
            "text/plain": [
              "                     Cochin  Coonoor  Coimbatore  Tea Serve  South India\n",
              "Month                                                                   \n",
              "2021-04-20 00:00:00  124.72    92.09      105.90      78.20       111.64\n",
              "2021-05-20 00:00:00  115.67    95.20      104.41      75.31       100.77\n",
              "2021-06-20 00:00:00  114.30   107.72      107.25      83.78       108.04\n",
              "2021-07-20 00:00:00  135.15   133.61      132.12     112.66       131.78\n",
              "2021-08-20 00:00:00  162.69   169.88      161.38     148.99       165.18\n",
              "2021-09-20 00:00:00  190.05   186.04      185.54     167.59       185.87\n",
              "2021-10-20 00:00:00  178.89   149.64      155.38     129.13       153.89\n",
              "2021-11-20 00:00:00  192.96   142.29      157.35     135.49       166.31\n",
              "2021-12-20 00:00:00  174.14   110.79      132.58     106.11       131.27\n",
              "2021-01-21 00:00:00  169.80   134.60      138.96     122.97       148.40\n",
              "2021-02-21 00:00:00  167.07   131.27      140.06     116.30       146.20\n",
              "2021-03-21 00:00:00  164.77   122.93      131.08     113.59       141.20\n",
              "Apr-Mar, 2020-21     155.22   134.93      139.57     113.55       140.40"
            ]
          },
          "metadata": {},
          "execution_count": 10
        }
      ]
    },
    {
      "cell_type": "code",
      "metadata": {
        "id": "J-vdJQ72U-Ea",
        "colab": {
          "base_uri": "https://localhost:8080/",
          "height": 623
        },
        "outputId": "915f5c9e-e9b2-4fe3-bd02-aeb3d050798a"
      },
      "source": [
        "df.plot(figsize=(10,10))\n"
      ],
      "execution_count": null,
      "outputs": [
        {
          "output_type": "execute_result",
          "data": {
            "text/plain": [
              "<matplotlib.axes._subplots.AxesSubplot at 0x7fa45dda2ed0>"
            ]
          },
          "metadata": {},
          "execution_count": 11
        },
        {
          "output_type": "display_data",
          "data": {
            "image/png": "[encoded data removed]",
            "text/plain": [
              "<Figure size 720x720 with 1 Axes>"
            ]
          },
          "metadata": {
            "needs_background": "light"
          }
        }
      ]
    },
    {
      "cell_type": "code",
      "metadata": {
        "id": "u8QAQT1BVQ1m",
        "colab": {
          "base_uri": "https://localhost:8080/"
        },
        "outputId": "709dd73b-99ee-4dcc-84de-684b8122131c"
      },
      "source": [
        "from statsmodels.tsa.stattools import adfuller"
      ],
      "execution_count": null,
      "outputs": [
        {
          "output_type": "stream",
          "name": "stderr",
          "text": [
            "/usr/local/lib/python3.7/dist-packages/statsmodels/tools/_testing.py:19: FutureWarning: pandas.util.testing is deprecated. Use the functions in the public API at pandas.testing instead.\n",
            "  import pandas.util.testing as tm\n"
          ]
        }
      ]
    },
    {
      "cell_type": "code",
      "metadata": {
        "id": "nHoNEr7fVfwr"
      },
      "source": [
        "\n",
        "ad1 = adfuller(df['Cochin'])"
      ],
      "execution_count": null,
      "outputs": []
    },
    {
      "cell_type": "code",
      "metadata": {
        "id": "8--AMUQnViZ8",
        "colab": {
          "base_uri": "https://localhost:8080/"
        },
        "outputId": "7f6c6c26-e77d-49b8-b53f-2468ea2b2151"
      },
      "source": [
        "ad1"
      ],
      "execution_count": null,
      "outputs": [
        {
          "output_type": "execute_result",
          "data": {
            "text/plain": [
              "(-7.436320294617366,\n",
              " 6.169897636905819e-11,\n",
              " 4,\n",
              " 8,\n",
              " {'1%': -4.6651863281249994, '10%': -2.802960625, '5%': -3.3671868750000002},\n",
              " 46.59500403226103)"
            ]
          },
          "metadata": {},
          "execution_count": 14
        }
      ]
    },
    {
      "cell_type": "code",
      "metadata": {
        "id": "6opGoM9TWJuj"
      },
      "source": [
        "# as p stats is equal to  6.16 we confirm that  stationality exists\n",
        "# the fiist value is the adfuller stastsics\n",
        "# 2nd the tells about pvalue\n",
        "# 3rd tells about the no of lags in observes\n",
        "# 4 th value tells about of no of observation\n",
        "\n",
        "# we always need to convert non stationary data to stationary data format"
      ],
      "execution_count": null,
      "outputs": []
    },
    {
      "cell_type": "code",
      "metadata": {
        "id": "TarAedzjV5_W",
        "colab": {
          "base_uri": "https://localhost:8080/"
        },
        "outputId": "318314f7-ad4d-4386-d872-98f88af58892"
      },
      "source": [
        "ad2 = adfuller(df['Coonoor'])\n",
        "ad2"
      ],
      "execution_count": null,
      "outputs": [
        {
          "output_type": "execute_result",
          "data": {
            "text/plain": [
              "(-1.8889593228776713,\n",
              " 0.33727268590590886,\n",
              " 0,\n",
              " 12,\n",
              " {'1%': -4.137829282407408,\n",
              "  '10%': -2.7144769444444443,\n",
              "  '5%': -3.1549724074074077},\n",
              " 72.0258570202667)"
            ]
          },
          "metadata": {},
          "execution_count": 16
        }
      ]
    },
    {
      "cell_type": "code",
      "metadata": {
        "id": "W-FDl8qUWZAQ"
      },
      "source": [
        "# as p stats is equal to  0.33 we confirm that non stationality exists\n",
        "# the fiist value is the adfuller stastsics\n",
        "# 2nd the tells about pvalue\n",
        "# 3rd tells about the no of lags in observes\n",
        "# 4 th value tells about of no of observation\n",
        "\n",
        "# we always need to convert non stationary data to stationary data format"
      ],
      "execution_count": null,
      "outputs": []
    },
    {
      "cell_type": "code",
      "metadata": {
        "id": "-gqZjJ-7WjuA",
        "colab": {
          "base_uri": "https://localhost:8080/"
        },
        "outputId": "2feaeb99-41e9-4b02-b486-d54ac1a77f82"
      },
      "source": [
        "ad3 = adfuller(df['Coimbatore'])\n",
        "ad3"
      ],
      "execution_count": null,
      "outputs": [
        {
          "output_type": "execute_result",
          "data": {
            "text/plain": [
              "(-3.6670161969752444,\n",
              " 0.004601760993930742,\n",
              " 2,\n",
              " 10,\n",
              " {'1%': -4.331573, '10%': -2.7487, '5%': -3.23295},\n",
              " 68.82640490377081)"
            ]
          },
          "metadata": {},
          "execution_count": 18
        }
      ]
    },
    {
      "cell_type": "code",
      "metadata": {
        "id": "svOcY3JvZqQQ"
      },
      "source": [
        "# as p stats is equal to  0.004 we confirm that non stationality exists\n",
        "# the fiist value is the adfuller stastsics\n",
        "# 2nd the tells about pvalue\n",
        "# 3rd tells about the no of lags in observes\n",
        "# 4 th value tells about of no of observation\n",
        "\n",
        "# we always need to convert non stationary data to stationary data format"
      ],
      "execution_count": null,
      "outputs": []
    },
    {
      "cell_type": "code",
      "metadata": {
        "id": "FW5ohZZfWz4r",
        "colab": {
          "base_uri": "https://localhost:8080/"
        },
        "outputId": "da83607a-236e-4760-c774-0b92de54976a"
      },
      "source": [
        "ad4 = adfuller(df['South India'])\n",
        "ad4"
      ],
      "execution_count": null,
      "outputs": [
        {
          "output_type": "execute_result",
          "data": {
            "text/plain": [
              "(-2.1249697242967893,\n",
              " 0.2345933934990015,\n",
              " 4,\n",
              " 8,\n",
              " {'1%': -4.6651863281249994, '10%': -2.802960625, '5%': -3.3671868750000002},\n",
              " 67.96406211670534)"
            ]
          },
          "metadata": {},
          "execution_count": 20
        }
      ]
    },
    {
      "cell_type": "code",
      "metadata": {
        "id": "dWsPjyGoXhIb"
      },
      "source": [
        "# as p stats is equal to  0.23 we confirm that non stationality exists\n",
        "# the fiist value is the adfuller stastsics\n",
        "# 2nd the tells about pvalue\n",
        "# 3rd tells about the no of lags in observes\n",
        "# 4 th value tells about of no of observation\n",
        "\n",
        "# we always need to convert non stationary data to stationary data format"
      ],
      "execution_count": null,
      "outputs": []
    },
    {
      "cell_type": "code",
      "metadata": {
        "id": "messT56aZybO"
      },
      "source": [
        "df['first_difference'] = df['Coonoor'] - df['Coonoor'].shift(1)"
      ],
      "execution_count": null,
      "outputs": []
    },
    {
      "cell_type": "code",
      "metadata": {
        "id": "zjc7XmxlZyc7",
        "colab": {
          "base_uri": "https://localhost:8080/",
          "height": 488
        },
        "outputId": "93cce071-8d56-41b6-a585-187d431ad22d"
      },
      "source": [
        "df"
      ],
      "execution_count": null,
      "outputs": [
        {
          "output_type": "execute_result",
          "data": {
            "text/html": [
              "<div>\n",
              "<style scoped>\n",
              "    .dataframe tbody tr th:only-of-type {\n",
              "        vertical-align: middle;\n",
              "    }\n",
              "\n",
              "    .dataframe tbody tr th {\n",
              "        vertical-align: top;\n",
              "    }\n",
              "\n",
              "    .dataframe thead th {\n",
              "        text-align: right;\n",
              "    }\n",
              "</style>\n",
              "<table border=\"1\" class=\"dataframe\">\n",
              "  <thead>\n",
              "    <tr style=\"text-align: right;\">\n",
              "      <th></th>\n",
              "      <th>Cochin</th>\n",
              "      <th>Coonoor</th>\n",
              "      <th>Coimbatore</th>\n",
              "      <th>Tea Serve</th>\n",
              "      <th>South India</th>\n",
              "      <th>first_difference</th>\n",
              "    </tr>\n",
              "    <tr>\n",
              "      <th>Month</th>\n",
              "      <th></th>\n",
              "      <th></th>\n",
              "      <th></th>\n",
              "      <th></th>\n",
              "      <th></th>\n",
              "      <th></th>\n",
              "    </tr>\n",
              "  </thead>\n",
              "  <tbody>\n",
              "    <tr>\n",
              "      <th>2021-04-20 00:00:00</th>\n",
              "      <td>124.72</td>\n",
              "      <td>92.09</td>\n",
              "      <td>105.90</td>\n",
              "      <td>78.20</td>\n",
              "      <td>111.64</td>\n",
              "      <td>NaN</td>\n",
              "    </tr>\n",
              "    <tr>\n",
              "      <th>2021-05-20 00:00:00</th>\n",
              "      <td>115.67</td>\n",
              "      <td>95.20</td>\n",
              "      <td>104.41</td>\n",
              "      <td>75.31</td>\n",
              "      <td>100.77</td>\n",
              "      <td>3.11</td>\n",
              "    </tr>\n",
              "    <tr>\n",
              "      <th>2021-06-20 00:00:00</th>\n",
              "      <td>114.30</td>\n",
              "      <td>107.72</td>\n",
              "      <td>107.25</td>\n",
              "      <td>83.78</td>\n",
              "      <td>108.04</td>\n",
              "      <td>12.52</td>\n",
              "    </tr>\n",
              "    <tr>\n",
              "      <th>2021-07-20 00:00:00</th>\n",
              "      <td>135.15</td>\n",
              "      <td>133.61</td>\n",
              "      <td>132.12</td>\n",
              "      <td>112.66</td>\n",
              "      <td>131.78</td>\n",
              "      <td>25.89</td>\n",
              "    </tr>\n",
              "    <tr>\n",
              "      <th>2021-08-20 00:00:00</th>\n",
              "      <td>162.69</td>\n",
              "      <td>169.88</td>\n",
              "      <td>161.38</td>\n",
              "      <td>148.99</td>\n",
              "      <td>165.18</td>\n",
              "      <td>36.27</td>\n",
              "    </tr>\n",
              "    <tr>\n",
              "      <th>2021-09-20 00:00:00</th>\n",
              "      <td>190.05</td>\n",
              "      <td>186.04</td>\n",
              "      <td>185.54</td>\n",
              "      <td>167.59</td>\n",
              "      <td>185.87</td>\n",
              "      <td>16.16</td>\n",
              "    </tr>\n",
              "    <tr>\n",
              "      <th>2021-10-20 00:00:00</th>\n",
              "      <td>178.89</td>\n",
              "      <td>149.64</td>\n",
              "      <td>155.38</td>\n",
              "      <td>129.13</td>\n",
              "      <td>153.89</td>\n",
              "      <td>-36.40</td>\n",
              "    </tr>\n",
              "    <tr>\n",
              "      <th>2021-11-20 00:00:00</th>\n",
              "      <td>192.96</td>\n",
              "      <td>142.29</td>\n",
              "      <td>157.35</td>\n",
              "      <td>135.49</td>\n",
              "      <td>166.31</td>\n",
              "      <td>-7.35</td>\n",
              "    </tr>\n",
              "    <tr>\n",
              "      <th>2021-12-20 00:00:00</th>\n",
              "      <td>174.14</td>\n",
              "      <td>110.79</td>\n",
              "      <td>132.58</td>\n",
              "      <td>106.11</td>\n",
              "      <td>131.27</td>\n",
              "      <td>-31.50</td>\n",
              "    </tr>\n",
              "    <tr>\n",
              "      <th>2021-01-21 00:00:00</th>\n",
              "      <td>169.80</td>\n",
              "      <td>134.60</td>\n",
              "      <td>138.96</td>\n",
              "      <td>122.97</td>\n",
              "      <td>148.40</td>\n",
              "      <td>23.81</td>\n",
              "    </tr>\n",
              "    <tr>\n",
              "      <th>2021-02-21 00:00:00</th>\n",
              "      <td>167.07</td>\n",
              "      <td>131.27</td>\n",
              "      <td>140.06</td>\n",
              "      <td>116.30</td>\n",
              "      <td>146.20</td>\n",
              "      <td>-3.33</td>\n",
              "    </tr>\n",
              "    <tr>\n",
              "      <th>2021-03-21 00:00:00</th>\n",
              "      <td>164.77</td>\n",
              "      <td>122.93</td>\n",
              "      <td>131.08</td>\n",
              "      <td>113.59</td>\n",
              "      <td>141.20</td>\n",
              "      <td>-8.34</td>\n",
              "    </tr>\n",
              "    <tr>\n",
              "      <th>Apr-Mar, 2020-21</th>\n",
              "      <td>155.22</td>\n",
              "      <td>134.93</td>\n",
              "      <td>139.57</td>\n",
              "      <td>113.55</td>\n",
              "      <td>140.40</td>\n",
              "      <td>12.00</td>\n",
              "    </tr>\n",
              "  </tbody>\n",
              "</table>\n",
              "</div>"
            ],
            "text/plain": [
              "                     Cochin  Coonoor  ...  South India  first_difference\n",
              "Month                                 ...                               \n",
              "2021-04-20 00:00:00  124.72    92.09  ...       111.64               NaN\n",
              "2021-05-20 00:00:00  115.67    95.20  ...       100.77              3.11\n",
              "2021-06-20 00:00:00  114.30   107.72  ...       108.04             12.52\n",
              "2021-07-20 00:00:00  135.15   133.61  ...       131.78             25.89\n",
              "2021-08-20 00:00:00  162.69   169.88  ...       165.18             36.27\n",
              "2021-09-20 00:00:00  190.05   186.04  ...       185.87             16.16\n",
              "2021-10-20 00:00:00  178.89   149.64  ...       153.89            -36.40\n",
              "2021-11-20 00:00:00  192.96   142.29  ...       166.31             -7.35\n",
              "2021-12-20 00:00:00  174.14   110.79  ...       131.27            -31.50\n",
              "2021-01-21 00:00:00  169.80   134.60  ...       148.40             23.81\n",
              "2021-02-21 00:00:00  167.07   131.27  ...       146.20             -3.33\n",
              "2021-03-21 00:00:00  164.77   122.93  ...       141.20             -8.34\n",
              "Apr-Mar, 2020-21     155.22   134.93  ...       140.40             12.00\n",
              "\n",
              "[13 rows x 6 columns]"
            ]
          },
          "metadata": {},
          "execution_count": 23
        }
      ]
    },
    {
      "cell_type": "code",
      "metadata": {
        "id": "cozXjN_fZygM"
      },
      "source": [
        "ad11 = adfuller(df['first_difference'].dropna())"
      ],
      "execution_count": null,
      "outputs": []
    },
    {
      "cell_type": "code",
      "metadata": {
        "id": "MJlABR2aZyhv",
        "colab": {
          "base_uri": "https://localhost:8080/"
        },
        "outputId": "5c200d3c-e336-48d6-ba8a-a22ec1bbfab3"
      },
      "source": [
        "ad11"
      ],
      "execution_count": null,
      "outputs": [
        {
          "output_type": "execute_result",
          "data": {
            "text/plain": [
              "(-9.595285404621952,\n",
              " 1.985919792349319e-16,\n",
              " 4,\n",
              " 7,\n",
              " {'1%': -4.9386902332361515,\n",
              "  '10%': -2.8438679591836733,\n",
              "  '5%': -3.477582857142857},\n",
              " 40.9502667995918)"
            ]
          },
          "metadata": {},
          "execution_count": 25
        }
      ]
    },
    {
      "cell_type": "code",
      "metadata": {
        "id": "kbpRJVfaZylm"
      },
      "source": [
        "df['seanality_trend'] = df.first_difference-df.first_difference.shift()"
      ],
      "execution_count": null,
      "outputs": []
    },
    {
      "cell_type": "code",
      "metadata": {
        "id": "wmyIMj_EZyn7",
        "colab": {
          "base_uri": "https://localhost:8080/",
          "height": 515
        },
        "outputId": "5928b6ef-7001-4a99-ede1-887793dc5113"
      },
      "source": [
        "df['seanality_trend'].plot(figsize=(15,8))"
      ],
      "execution_count": null,
      "outputs": [
        {
          "output_type": "execute_result",
          "data": {
            "text/plain": [
              "<matplotlib.axes._subplots.AxesSubplot at 0x7fa45e6bb650>"
            ]
          },
          "metadata": {},
          "execution_count": 27
        },
        {
          "output_type": "display_data",
          "data": {
            "image/png": "[encoded data removed]",
            "text/plain": [
              "<Figure size 1080x576 with 1 Axes>"
            ]
          },
          "metadata": {
            "needs_background": "light"
          }
        }
      ]
    },
    {
      "cell_type": "code",
      "metadata": {
        "id": "3LdanpoWZyqT"
      },
      "source": [
        "# AR model\n",
        "# 1.AR  models\n",
        "# performing ACF and PACF \n",
        "# auto correlation function and partial auto correlation function"
      ],
      "execution_count": null,
      "outputs": []
    },
    {
      "cell_type": "code",
      "metadata": {
        "id": "nb9PM-RaZyrt"
      },
      "source": [
        "# To understand the Order of AR and MA models"
      ],
      "execution_count": null,
      "outputs": []
    },
    {
      "cell_type": "code",
      "metadata": {
        "id": "KsPL01RwZyvn"
      },
      "source": [
        "from statsmodels.graphics.tsaplots import acf,pacf"
      ],
      "execution_count": null,
      "outputs": []
    },
    {
      "cell_type": "code",
      "metadata": {
        "id": "GCT6yH-O1rDz"
      },
      "source": [
        "import statsmodels.api as sm"
      ],
      "execution_count": null,
      "outputs": []
    },
    {
      "cell_type": "code",
      "metadata": {
        "id": "lzSyogmd1t7b",
        "colab": {
          "base_uri": "https://localhost:8080/",
          "height": 545
        },
        "outputId": "54d72d0b-0935-418b-dd7f-76e55b062b5b"
      },
      "source": [
        "sm.graphics.tsa.plot_acf(df['seanality_trend'].dropna())"
      ],
      "execution_count": null,
      "outputs": [
        {
          "output_type": "execute_result",
          "data": {
            "image/png": "[encoded data removed]",
            "text/plain": [
              "<Figure size 432x288 with 1 Axes>"
            ]
          },
          "metadata": {},
          "execution_count": 32
        },
        {
          "output_type": "display_data",
          "data": {
            "image/png": "[encoded data removed]",
            "text/plain": [
              "<Figure size 432x288 with 1 Axes>"
            ]
          },
          "metadata": {
            "needs_background": "light"
          }
        }
      ]
    },
    {
      "cell_type": "code",
      "metadata": {
        "id": "P9bkgAKG18VE"
      },
      "source": [
        "# Builidng ARIMA model \n",
        "#  p is eqaul to order\n",
        "# D is equal to difference\n",
        "# q is equal to MA\n",
        "# order is equal to  P,D,Q"
      ],
      "execution_count": null,
      "outputs": []
    },
    {
      "cell_type": "code",
      "metadata": {
        "id": "HeSmegMN2e29"
      },
      "source": [
        "\n",
        "from statsmodels.tsa.arima_model import ARIMA"
      ],
      "execution_count": null,
      "outputs": []
    },
    {
      "cell_type": "code",
      "metadata": {
        "id": "g6pQFOp02Upa",
        "colab": {
          "base_uri": "https://localhost:8080/"
        },
        "outputId": "858c4204-c31e-43ce-d146-8c33d2ea1481"
      },
      "source": [
        "model = ARIMA(df['Coonoor'],order=(1,1,1))"
      ],
      "execution_count": null,
      "outputs": [
        {
          "output_type": "stream",
          "name": "stderr",
          "text": [
            "/usr/local/lib/python3.7/dist-packages/statsmodels/tsa/base/tsa_model.py:215: ValueWarning: An unsupported index was provided and will be ignored when e.g. forecasting.\n",
            "  ' ignored when e.g. forecasting.', ValueWarning)\n",
            "/usr/local/lib/python3.7/dist-packages/statsmodels/tsa/base/tsa_model.py:215: ValueWarning: An unsupported index was provided and will be ignored when e.g. forecasting.\n",
            "  ' ignored when e.g. forecasting.', ValueWarning)\n"
          ]
        }
      ]
    },
    {
      "cell_type": "code",
      "metadata": {
        "id": "MDcArE7h2Wuf"
      },
      "source": [
        "model_fit = model.fit()"
      ],
      "execution_count": null,
      "outputs": []
    },
    {
      "cell_type": "code",
      "metadata": {
        "id": "_yXbg_iG2u_a",
        "colab": {
          "base_uri": "https://localhost:8080/",
          "height": 333
        },
        "outputId": "5229054a-c8e5-4495-a72d-981d9c04e697"
      },
      "source": [
        "model_fit.summary()"
      ],
      "execution_count": null,
      "outputs": [
        {
          "output_type": "execute_result",
          "data": {
            "text/html": [
              "<table class=\"simpletable\">\n",
              "<caption>ARIMA Model Results</caption>\n",
              "<tr>\n",
              "  <th>Dep. Variable:</th>     <td>D.Coonoor</td>    <th>  No. Observations:  </th>   <td>12</td>   \n",
              "</tr>\n",
              "<tr>\n",
              "  <th>Model:</th>          <td>ARIMA(1, 1, 1)</td>  <th>  Log Likelihood     </th> <td>-53.589</td>\n",
              "</tr>\n",
              "<tr>\n",
              "  <th>Method:</th>             <td>css-mle</td>     <th>  S.D. of innovations</th> <td>21.032</td> \n",
              "</tr>\n",
              "<tr>\n",
              "  <th>Date:</th>          <td>Tue, 05 Oct 2021</td> <th>  AIC                </th> <td>115.178</td>\n",
              "</tr>\n",
              "<tr>\n",
              "  <th>Time:</th>              <td>10:01:59</td>     <th>  BIC                </th> <td>117.118</td>\n",
              "</tr>\n",
              "<tr>\n",
              "  <th>Sample:</th>                <td>1</td>        <th>  HQIC               </th> <td>114.460</td>\n",
              "</tr>\n",
              "<tr>\n",
              "  <th></th>                       <td> </td>        <th>                     </th>    <td> </td>   \n",
              "</tr>\n",
              "</table>\n",
              "<table class=\"simpletable\">\n",
              "<tr>\n",
              "         <td></td>            <th>coef</th>     <th>std err</th>      <th>z</th>      <th>P>|z|</th>  <th>[0.025</th>    <th>0.975]</th>  \n",
              "</tr>\n",
              "<tr>\n",
              "  <th>const</th>           <td>    3.6732</td> <td>    6.958</td> <td>    0.528</td> <td> 0.610</td> <td>   -9.964</td> <td>   17.311</td>\n",
              "</tr>\n",
              "<tr>\n",
              "  <th>ar.L1.D.Coonoor</th> <td>    0.1607</td> <td>    0.871</td> <td>    0.185</td> <td> 0.858</td> <td>   -1.546</td> <td>    1.868</td>\n",
              "</tr>\n",
              "<tr>\n",
              "  <th>ma.L1.D.Coonoor</th> <td>   -0.0256</td> <td>    0.850</td> <td>   -0.030</td> <td> 0.977</td> <td>   -1.691</td> <td>    1.640</td>\n",
              "</tr>\n",
              "</table>\n",
              "<table class=\"simpletable\">\n",
              "<caption>Roots</caption>\n",
              "<tr>\n",
              "    <td></td>   <th>            Real</th>  <th>         Imaginary</th> <th>         Modulus</th>  <th>        Frequency</th>\n",
              "</tr>\n",
              "<tr>\n",
              "  <th>AR.1</th> <td>           6.2231</td> <td>          +0.0000j</td> <td>           6.2231</td> <td>           0.0000</td>\n",
              "</tr>\n",
              "<tr>\n",
              "  <th>MA.1</th> <td>          39.1196</td> <td>          +0.0000j</td> <td>          39.1196</td> <td>           0.0000</td>\n",
              "</tr>\n",
              "</table>"
            ],
            "text/plain": [
              "<class 'statsmodels.iolib.summary.Summary'>\n",
              "\"\"\"\n",
              "                             ARIMA Model Results                              \n",
              "==============================================================================\n",
              "Dep. Variable:              D.Coonoor   No. Observations:                   12\n",
              "Model:                 ARIMA(1, 1, 1)   Log Likelihood                 -53.589\n",
              "Method:                       css-mle   S.D. of innovations             21.032\n",
              "Date:                Tue, 05 Oct 2021   AIC                            115.178\n",
              "Time:                        10:01:59   BIC                            117.118\n",
              "Sample:                             1   HQIC                           114.460\n",
              "                                                                              \n",
              "===================================================================================\n",
              "                      coef    std err          z      P>|z|      [0.025      0.975]\n",
              "-----------------------------------------------------------------------------------\n",
              "const               3.6732      6.958      0.528      0.610      -9.964      17.311\n",
              "ar.L1.D.Coonoor     0.1607      0.871      0.185      0.858      -1.546       1.868\n",
              "ma.L1.D.Coonoor    -0.0256      0.850     -0.030      0.977      -1.691       1.640\n",
              "                                    Roots                                    \n",
              "=============================================================================\n",
              "                  Real          Imaginary           Modulus         Frequency\n",
              "-----------------------------------------------------------------------------\n",
              "AR.1            6.2231           +0.0000j            6.2231            0.0000\n",
              "MA.1           39.1196           +0.0000j           39.1196            0.0000\n",
              "-----------------------------------------------------------------------------\n",
              "\"\"\""
            ]
          },
          "metadata": {},
          "execution_count": 37
        }
      ]
    },
    {
      "cell_type": "code",
      "metadata": {
        "id": "nHVvxAvL3VoQ",
        "colab": {
          "base_uri": "https://localhost:8080/"
        },
        "outputId": "ecb3cd5a-239e-41ca-b60e-04c28201e16f"
      },
      "source": [
        "df.shape"
      ],
      "execution_count": null,
      "outputs": [
        {
          "output_type": "execute_result",
          "data": {
            "text/plain": [
              "(13, 7)"
            ]
          },
          "metadata": {},
          "execution_count": 38
        }
      ]
    },
    {
      "cell_type": "code",
      "metadata": {
        "id": "2U5UxCKJ2xiJ",
        "colab": {
          "base_uri": "https://localhost:8080/"
        },
        "outputId": "f4f42e69-a4fc-4aeb-f6f1-5ef8fdae6391"
      },
      "source": [
        "df['forecast'] = model_fit.predict(start=8,end = 13,dynamic=True)"
      ],
      "execution_count": null,
      "outputs": [
        {
          "output_type": "stream",
          "name": "stderr",
          "text": [
            "/usr/local/lib/python3.7/dist-packages/statsmodels/tsa/base/tsa_model.py:576: ValueWarning: No supported index is available. Prediction results will be given with an integer index beginning at `start`.\n",
            "  ValueWarning)\n"
          ]
        }
      ]
    },
    {
      "cell_type": "code",
      "metadata": {
        "id": "WhHoo7At3T9l",
        "colab": {
          "base_uri": "https://localhost:8080/",
          "height": 514
        },
        "outputId": "d115b5cd-71d9-4d63-8946-5b76047fa521"
      },
      "source": [
        "df[['Coonoor','forecast']].plot(figsize=(15,8))"
      ],
      "execution_count": null,
      "outputs": [
        {
          "output_type": "execute_result",
          "data": {
            "text/plain": [
              "<matplotlib.axes._subplots.AxesSubplot at 0x7fa44302ee90>"
            ]
          },
          "metadata": {},
          "execution_count": 40
        },
        {
          "output_type": "display_data",
          "data": {
            "image/png": "[encoded data removed]",
            "text/plain": [
              "<Figure size 1080x576 with 1 Axes>"
            ]
          },
          "metadata": {
            "needs_background": "light"
          }
        }
      ]
    },
    {
      "cell_type": "code",
      "metadata": {
        "id": "aPg3sp2i3g4q",
        "colab": {
          "base_uri": "https://localhost:8080/"
        },
        "outputId": "d3d3fed4-c579-4943-e12f-dd3985a764a0"
      },
      "source": [
        "model2 = sm.tsa.SARIMAX(df['Coonoor'],order=(1,1,1),seasonal_order=(1,1,0,1))"
      ],
      "execution_count": null,
      "outputs": [
        {
          "output_type": "stream",
          "name": "stderr",
          "text": [
            "/usr/local/lib/python3.7/dist-packages/statsmodels/tsa/base/tsa_model.py:215: ValueWarning: An unsupported index was provided and will be ignored when e.g. forecasting.\n",
            "  ' ignored when e.g. forecasting.', ValueWarning)\n"
          ]
        }
      ]
    },
    {
      "cell_type": "code",
      "metadata": {
        "id": "RKZZhEMz32yr"
      },
      "source": [
        "model2 = model2.fit()"
      ],
      "execution_count": null,
      "outputs": []
    },
    {
      "cell_type": "code",
      "metadata": {
        "id": "q-4taMrF4-2K",
        "colab": {
          "base_uri": "https://localhost:8080/",
          "height": 444
        },
        "outputId": "a7cfb2f6-a6ee-4e93-ca91-e4f37b07d41e"
      },
      "source": [
        "model2.summary()"
      ],
      "execution_count": null,
      "outputs": [
        {
          "output_type": "execute_result",
          "data": {
            "text/html": [
              "<table class=\"simpletable\">\n",
              "<caption>Statespace Model Results</caption>\n",
              "<tr>\n",
              "  <th>Dep. Variable:</th>              <td>Coonoor</td>            <th>  No. Observations:  </th>   <td>13</td>   \n",
              "</tr>\n",
              "<tr>\n",
              "  <th>Model:</th>           <td>SARIMAX(1, 1, 1)x(1, 1, 0, 1)</td> <th>  Log Likelihood     </th> <td>-50.612</td>\n",
              "</tr>\n",
              "<tr>\n",
              "  <th>Date:</th>                  <td>Tue, 05 Oct 2021</td>        <th>  AIC                </th> <td>109.223</td>\n",
              "</tr>\n",
              "<tr>\n",
              "  <th>Time:</th>                      <td>10:01:59</td>            <th>  BIC                </th> <td>110.815</td>\n",
              "</tr>\n",
              "<tr>\n",
              "  <th>Sample:</th>                        <td>0</td>               <th>  HQIC               </th> <td>108.220</td>\n",
              "</tr>\n",
              "<tr>\n",
              "  <th></th>                             <td> - 13</td>             <th>                     </th>    <td> </td>   \n",
              "</tr>\n",
              "<tr>\n",
              "  <th>Covariance Type:</th>              <td>opg</td>              <th>                     </th>    <td> </td>   \n",
              "</tr>\n",
              "</table>\n",
              "<table class=\"simpletable\">\n",
              "<tr>\n",
              "     <td></td>        <th>coef</th>     <th>std err</th>      <th>z</th>      <th>P>|z|</th>  <th>[0.025</th>    <th>0.975]</th>  \n",
              "</tr>\n",
              "<tr>\n",
              "  <th>ar.L1</th>   <td>    0.4401</td> <td>    1.264</td> <td>    0.348</td> <td> 0.728</td> <td>   -2.037</td> <td>    2.917</td>\n",
              "</tr>\n",
              "<tr>\n",
              "  <th>ma.L1</th>   <td>   -0.9998</td> <td>  717.797</td> <td>   -0.001</td> <td> 0.999</td> <td>-1407.856</td> <td> 1405.856</td>\n",
              "</tr>\n",
              "<tr>\n",
              "  <th>ar.S.L1</th> <td>   -0.2178</td> <td>    0.600</td> <td>   -0.363</td> <td> 0.717</td> <td>   -1.395</td> <td>    0.959</td>\n",
              "</tr>\n",
              "<tr>\n",
              "  <th>sigma2</th>  <td>  488.9031</td> <td> 3.51e+05</td> <td>    0.001</td> <td> 0.999</td> <td>-6.87e+05</td> <td> 6.88e+05</td>\n",
              "</tr>\n",
              "</table>\n",
              "<table class=\"simpletable\">\n",
              "<tr>\n",
              "  <th>Ljung-Box (Q):</th>           <td>nan</td> <th>  Jarque-Bera (JB):  </th> <td>0.90</td> \n",
              "</tr>\n",
              "<tr>\n",
              "  <th>Prob(Q):</th>                 <td>nan</td> <th>  Prob(JB):          </th> <td>0.64</td> \n",
              "</tr>\n",
              "<tr>\n",
              "  <th>Heteroskedasticity (H):</th> <td>1.89</td> <th>  Skew:              </th> <td>-0.70</td>\n",
              "</tr>\n",
              "<tr>\n",
              "  <th>Prob(H) (two-sided):</th>    <td>0.55</td> <th>  Kurtosis:          </th> <td>2.95</td> \n",
              "</tr>\n",
              "</table><br/><br/>Warnings:<br/>[1] Covariance matrix calculated using the outer product of gradients (complex-step)."
            ],
            "text/plain": [
              "<class 'statsmodels.iolib.summary.Summary'>\n",
              "\"\"\"\n",
              "                                 Statespace Model Results                                \n",
              "=========================================================================================\n",
              "Dep. Variable:                           Coonoor   No. Observations:                   13\n",
              "Model:             SARIMAX(1, 1, 1)x(1, 1, 0, 1)   Log Likelihood                 -50.612\n",
              "Date:                           Tue, 05 Oct 2021   AIC                            109.223\n",
              "Time:                                   10:01:59   BIC                            110.815\n",
              "Sample:                                        0   HQIC                           108.220\n",
              "                                            - 13                                         \n",
              "Covariance Type:                             opg                                         \n",
              "==============================================================================\n",
              "                 coef    std err          z      P>|z|      [0.025      0.975]\n",
              "------------------------------------------------------------------------------\n",
              "ar.L1          0.4401      1.264      0.348      0.728      -2.037       2.917\n",
              "ma.L1         -0.9998    717.797     -0.001      0.999   -1407.856    1405.856\n",
              "ar.S.L1       -0.2178      0.600     -0.363      0.717      -1.395       0.959\n",
              "sigma2       488.9031   3.51e+05      0.001      0.999   -6.87e+05    6.88e+05\n",
              "===================================================================================\n",
              "Ljung-Box (Q):                         nan   Jarque-Bera (JB):                 0.90\n",
              "Prob(Q):                               nan   Prob(JB):                         0.64\n",
              "Heteroskedasticity (H):               1.89   Skew:                            -0.70\n",
              "Prob(H) (two-sided):                  0.55   Kurtosis:                         2.95\n",
              "===================================================================================\n",
              "\n",
              "Warnings:\n",
              "[1] Covariance matrix calculated using the outer product of gradients (complex-step).\n",
              "\"\"\""
            ]
          },
          "metadata": {},
          "execution_count": 43
        }
      ]
    },
    {
      "cell_type": "code",
      "metadata": {
        "id": "B2pwEDlU5PPj",
        "colab": {
          "base_uri": "https://localhost:8080/"
        },
        "outputId": "a4501693-0ef4-473a-d837-7f0b989d42d9"
      },
      "source": [
        "df['forecast_sa'] = model2.predict(start=8,end=13,dynamic=True)"
      ],
      "execution_count": null,
      "outputs": [
        {
          "output_type": "stream",
          "name": "stderr",
          "text": [
            "/usr/local/lib/python3.7/dist-packages/statsmodels/tsa/base/tsa_model.py:576: ValueWarning: No supported index is available. Prediction results will be given with an integer index beginning at `start`.\n",
            "  ValueWarning)\n"
          ]
        }
      ]
    },
    {
      "cell_type": "code",
      "metadata": {
        "id": "WtQUgVSc5Xp8",
        "colab": {
          "base_uri": "https://localhost:8080/",
          "height": 296
        },
        "outputId": "c7c9faf2-adaa-4159-c0d9-cbc9820c12a6"
      },
      "source": [
        "df[['Coonoor','forecast_sa']].plot()"
      ],
      "execution_count": null,
      "outputs": [
        {
          "output_type": "execute_result",
          "data": {
            "text/plain": [
              "<matplotlib.axes._subplots.AxesSubplot at 0x7fa440f6f490>"
            ]
          },
          "metadata": {},
          "execution_count": 45
        },
        {
          "output_type": "display_data",
          "data": {
            "image/png": "[encoded data removed]",
            "text/plain": [
              "<Figure size 432x288 with 1 Axes>"
            ]
          },
          "metadata": {
            "needs_background": "light"
          }
        }
      ]
    },
    {
      "cell_type": "code",
      "metadata": {
        "id": "9xLDmCUA5fKy"
      },
      "source": [
        ""
      ],
      "execution_count": null,
      "outputs": []
    }
  ]
}